{
 "cells": [
  {
   "cell_type": "code",
   "execution_count": 1,
   "metadata": {},
   "outputs": [],
   "source": [
    "import os\n",
    "os.environ['PYSPARK_SUBMIT_ARGS'] = '--packages com.datastax.spark:spark-cassandra-connector_2.12:3.0.0-beta --conf spark.cassandra.connection.host=127.0.0.1 pyspark-shell'"
   ]
  },
  {
   "cell_type": "code",
   "execution_count": 2,
   "metadata": {},
   "outputs": [],
   "source": [
    "from pyspark.context import SparkContext\n",
    "from pyspark.sql.session import SparkSession\n",
    "from pyspark.sql import SQLContext\n",
    "sc = SparkContext('local')\n",
    "spark = SparkSession(sc)\n",
    "sqlContext = SQLContext(sc)"
   ]
  },
  {
   "cell_type": "code",
   "execution_count": 3,
   "metadata": {},
   "outputs": [],
   "source": [
    "def load_and_get_table_df(keys_space_name, table_name):\n",
    "    table_df = sqlContext.read\\\n",
    "        .format(\"org.apache.spark.sql.cassandra\")\\\n",
    "        .options(table=table_name, keyspace=keys_space_name)\\\n",
    "        .load()\n",
    "    return table_df"
   ]
  },
  {
   "cell_type": "code",
   "execution_count": 7,
   "metadata": {},
   "outputs": [
    {
     "name": "stdout",
     "output_type": "stream",
     "text": [
      "+---------------+--------------------+------+-------------------+-------------------+--------------------+\n",
      "|spacecraft_name|          journey_id|active|                end|              start|             summary|\n",
      "+---------------+--------------------+------+-------------------+-------------------+--------------------+\n",
      "|         sts-64|73f5f400-cc24-11c...| false|1994-09-20 17:11:00|1994-09-09 18:22:00|Atmospheric and s...|\n",
      "|        soyuz13|b1a20200-8f44-11b...| false|1973-12-26 03:50:00|1973-12-18 06:55:00|Second test of re...|\n",
      "|      soyuztm-5|2c6dc200-c84f-11c...| false|1988-06-17 06:13:00|1988-06-07 10:03:00|                    |\n",
      "|      datastax7|b0a04f00-5d8d-11e...| false|2021-03-09 08:22:55|2021-01-05 22:27:37|        Land on Mars|\n",
      "|      datastax7|54564900-54ca-11e...| false|2021-06-13 09:39:39|2021-03-08 08:54:23|Find new forms of...|\n",
      "|      datastax7|d3cd1500-5403-11e...| false|2021-12-17 06:38:20|2021-03-16 21:07:29|        Land on Mars|\n",
      "|      datastax7|1210f880-5360-11e...| false|2021-08-21 09:15:54|2021-03-04 18:41:16|Deploy new intern...|\n",
      "|      datastax7|3658df00-5338-11e...| false|2021-11-23 22:54:36|2021-01-01 15:19:11|        Land on Mars|\n",
      "|      datastax7|9dfa1780-51dc-11e...| false|2021-06-06 19:38:57|2021-04-07 18:27:17|Go to edge of sol...|\n",
      "|      datastax7|1f7c5a80-4fcf-11e...| false|2021-12-10 11:46:14|2021-05-27 18:57:44|      Tourist flight|\n",
      "|      datastax7|049edd00-4f20-11e...| false|2021-12-13 14:58:46|2021-09-26 03:23:13|Find new forms of...|\n",
      "|      datastax7|550e1300-4d45-11e...| false|2021-06-08 05:14:16|2021-06-03 11:26:26|Bring supplies to...|\n",
      "|      datastax7|9bdd0980-4c6e-11e...| false|2021-06-11 21:37:22|2021-05-02 19:45:09|       Crew rotation|\n",
      "|         sts-70|ac210400-bd19-11c...| false|1995-07-22 08:02:00|1995-07-13 09:42:00|Deployment of 7th...|\n",
      "|        soyuz24|a07a8800-14b9-11b...| false|1977-02-25 04:37:00|1977-02-07 11:12:00|Investigation of ...|\n",
      "|         sts-88|6912e200-8a8e-11d...| false|1998-12-14 23:16:00|1998-12-03 03:59:00|First ISS constru...|\n",
      "|        sts-124|8319c000-2ea4-11d...| false|2008-06-13 20:00:00|2008-05-30 20:00:00|ISS assembly and ...|\n",
      "|        soyuz39|9b139200-b288-11b...| false|1981-03-30 06:41:00|1981-03-22 09:59:00|First Mongolian i...|\n",
      "|        skylab3|b73c7400-1edf-11b...| false|1973-09-25 18:19:00|1973-07-28 07:10:00|Spent almost two ...|\n",
      "|        soyuz10|6e621c00-956e-11b...| false|1971-04-25 19:39:00|1971-04-23 18:54:00|Unsuccessful atte...|\n",
      "+---------------+--------------------+------+-------------------+-------------------+--------------------+\n",
      "only showing top 20 rows\n",
      "\n"
     ]
    }
   ],
   "source": [
    "spacecraft_journey_catalog = load_and_get_table_df(\"demo\", \"spacecraft_journey_catalog\")\n",
    "spacecraft_journey_catalog.show()\n",
    "spacecraft_journey_catalog.createTempView('spacecraft_journey_catalog')"
   ]
  },
  {
   "cell_type": "code",
   "execution_count": 8,
   "metadata": {},
   "outputs": [
    {
     "name": "stdout",
     "output_type": "stream",
     "text": [
      "+---------------+--------------------+-------------------+-------+----------+\n",
      "|spacecraft_name|          journey_id|       reading_time|  speed|speed_unit|\n",
      "+---------------+--------------------+-------------------+-------+----------+\n",
      "|     datastax33|0c9d5500-1058-11f...|1969-07-16 09:32:17|30077.0|      km/h|\n",
      "|     datastax33|0c9d5500-1058-11f...|1969-07-16 09:32:16|30076.0|      km/h|\n",
      "|         soyuz6|16b2f400-ddc0-11b...|1969-07-16 09:32:07|30035.0|      km/h|\n",
      "|         soyuz6|16b2f400-ddc0-11b...|1969-07-16 09:32:06|30033.0|      km/h|\n",
      "|        vostok1|805b1a00-5673-11a...|1969-07-16 09:32:01|30004.0|      km/h|\n",
      "|        vostok1|805b1a00-5673-11a...|1969-07-16 09:32:00|30000.0|      km/h|\n",
      "|     datastax21|a0ffe880-7b2b-11e...|1969-07-16 09:32:15|30064.0|      km/h|\n",
      "|     datastax21|a0ffe880-7b2b-11e...|1969-07-16 09:32:14|30062.0|      km/h|\n",
      "|         sts-37|15c08000-f345-11c...|1969-07-16 09:32:09|30041.0|      km/h|\n",
      "|         sts-37|15c08000-f345-11c...|1969-07-16 09:32:08|30039.0|      km/h|\n",
      "| mercury-atlas6|8c7b3200-4d82-11a...|1969-07-16 09:32:03|30007.0|      km/h|\n",
      "| mercury-atlas6|8c7b3200-4d82-11a...|1969-07-16 09:32:02|30006.0|      km/h|\n",
      "|      datastax5|f9ebc280-c10b-11e...|1969-07-16 09:32:13|30060.0|      km/h|\n",
      "|      datastax5|f9ebc280-c10b-11e...|1969-07-16 09:32:12|30059.0|      km/h|\n",
      "|        gemini7|d4e16c00-8c65-11a...|1969-07-16 09:32:05|30022.0|      km/h|\n",
      "|        gemini7|d4e16c00-8c65-11a...|1969-07-16 09:32:04|30021.0|      km/h|\n",
      "|        sts-101|c62b5200-2d6d-11d...|1969-07-16 09:32:11|30052.0|      km/h|\n",
      "|        sts-101|c62b5200-2d6d-11d...|1969-07-16 09:32:10|30043.0|      km/h|\n",
      "+---------------+--------------------+-------------------+-------+----------+\n",
      "\n"
     ]
    }
   ],
   "source": [
    "spacecraft_speed_over_time = load_and_get_table_df(\"demo\", \"spacecraft_speed_over_time\")\n",
    "spacecraft_speed_over_time.show()\n",
    "spacecraft_speed_over_time.createTempView('spacecraft_speed_over_time')"
   ]
  },
  {
   "cell_type": "code",
   "execution_count": 9,
   "metadata": {},
   "outputs": [
    {
     "name": "stdout",
     "output_type": "stream",
     "text": [
      "+---------------+--------------------+-------+\n",
      "|spacecraft_name|             summary|  speed|\n",
      "+---------------+--------------------+-------+\n",
      "|      datastax5|Bring passengers ...|30060.0|\n",
      "|      datastax5|Bring passengers ...|30059.0|\n",
      "|     datastax33|       Crew rotation|30077.0|\n",
      "|     datastax33|       Crew rotation|30076.0|\n",
      "|        sts-101|ISS construction ...|30052.0|\n",
      "|        sts-101|ISS construction ...|30043.0|\n",
      "|     datastax21|Bring supplies to...|30064.0|\n",
      "|     datastax21|Bring supplies to...|30062.0|\n",
      "|         soyuz6|First three-craft...|30035.0|\n",
      "|         soyuz6|First three-craft...|30033.0|\n",
      "|         sts-37|Deployment of Com...|30041.0|\n",
      "|         sts-37|Deployment of Com...|30039.0|\n",
      "|        gemini7|First two-week sp...|30022.0|\n",
      "|        gemini7|First two-week sp...|30021.0|\n",
      "| mercury-atlas6|First American ma...|30007.0|\n",
      "| mercury-atlas6|First American ma...|30006.0|\n",
      "|        vostok1|First manned spac...|30004.0|\n",
      "|        vostok1|First manned spac...|30000.0|\n",
      "+---------------+--------------------+-------+\n",
      "\n"
     ]
    }
   ],
   "source": [
    "spark.sql(\"select spacecraft_journey_catalog.spacecraft_name, spacecraft_journey_catalog.summary, spacecraft_speed_over_time.speed from spacecraft_journey_catalog inner join spacecraft_speed_over_time on spacecraft_journey_catalog.journey_id = spacecraft_speed_over_time.journey_id\").show()"
   ]
  }
 ],
 "metadata": {
  "kernelspec": {
   "display_name": "Python 3",
   "language": "python",
   "name": "python3"
  },
  "language_info": {
   "codemirror_mode": {
    "name": "ipython",
    "version": 3
   },
   "file_extension": ".py",
   "mimetype": "text/x-python",
   "name": "python",
   "nbconvert_exporter": "python",
   "pygments_lexer": "ipython3",
   "version": "3.8.3"
  }
 },
 "nbformat": 4,
 "nbformat_minor": 4
}
